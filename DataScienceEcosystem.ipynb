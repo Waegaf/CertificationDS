{
 "cells": [
  {
   "cell_type": "markdown",
   "id": "837f3b1b-7108-4ae4-abff-7f7f79a60c6e",
   "metadata": {},
   "source": [
    "# Data Science Tools and Ecosystem"
   ]
  },
  {
   "cell_type": "markdown",
   "id": "1cf7d655-c096-4f9f-abce-24e9b239c1f1",
   "metadata": {},
   "source": [
    "In this notebook, Data Science Tools and Ecosystem are summarized."
   ]
  },
  {
   "cell_type": "markdown",
   "id": "337afc9f-3d91-43ea-97c4-7afbe8c3226a",
   "metadata": {},
   "source": [
    "**Objectives :**\n",
    "- List popular languages for Data Science\n",
    "- Introduction to Juypyter notebook\n",
    "- Introduction to RStudio\n",
    "- Introduction to Github"
   ]
  },
  {
   "cell_type": "markdown",
   "id": "edf76f60-68e7-4703-b16c-b4853228485b",
   "metadata": {},
   "source": [
    "Some of the popular languages that Data Scientists use are:\n",
    "1. Python\n",
    "2. R\n",
    "3. SQL"
   ]
  },
  {
   "cell_type": "markdown",
   "id": "0263869b-7c78-4cf1-8f81-aeb71091510d",
   "metadata": {},
   "source": [
    "Some of the commonly used libraries used by Data Scientists include:\n",
    "1. Pandas\n",
    "2. Numpy\n",
    "3. ggplot"
   ]
  },
  {
   "cell_type": "markdown",
   "id": "368cd1bd-67e8-4f19-8233-abf474d0e39b",
   "metadata": {},
   "source": [
    "| Data Science Tools|\n",
    "|-------------------|\n",
    "| Git |\n",
    "| Github|\n",
    "| Gitlab|"
   ]
  },
  {
   "cell_type": "markdown",
   "id": "cebbdc0e-2a27-40b2-9a41-8d78b7889f1f",
   "metadata": {},
   "source": [
    "### Below are a few examples of evaluating arithmetic expressions in Python."
   ]
  },
  {
   "cell_type": "code",
   "execution_count": 1,
   "id": "17de0262-11ec-4175-a3f2-6210d65e8f3d",
   "metadata": {},
   "outputs": [
    {
     "data": {
      "text/plain": [
       "17"
      ]
     },
     "execution_count": 1,
     "metadata": {},
     "output_type": "execute_result"
    }
   ],
   "source": [
    "# This a simple arithmetic expression to mutiply then add integers\n",
    "(3*4)+5"
   ]
  },
  {
   "cell_type": "code",
   "execution_count": 2,
   "id": "9d6ba0b8-76f8-48e9-9ccd-f20fcb6d9a03",
   "metadata": {},
   "outputs": [
    {
     "data": {
      "text/plain": [
       "3.3333333333333335"
      ]
     },
     "execution_count": 2,
     "metadata": {},
     "output_type": "execute_result"
    }
   ],
   "source": [
    "# This will convert 200 minutes to hours by diving by 60\n",
    "200/60"
   ]
  },
  {
   "cell_type": "markdown",
   "id": "ca7d274c-25ec-4e74-aab2-ce84b43720e8",
   "metadata": {},
   "source": [
    "## Author\n",
    "Wael"
   ]
  },
  {
   "cell_type": "code",
   "execution_count": null,
   "id": "9d083282-ffab-4fde-89e9-b0218cdb60ae",
   "metadata": {},
   "outputs": [],
   "source": []
  }
 ],
 "metadata": {
  "kernelspec": {
   "display_name": "Python 3 (ipykernel)",
   "language": "python",
   "name": "python3"
  },
  "language_info": {
   "codemirror_mode": {
    "name": "ipython",
    "version": 3
   },
   "file_extension": ".py",
   "mimetype": "text/x-python",
   "name": "python",
   "nbconvert_exporter": "python",
   "pygments_lexer": "ipython3",
   "version": "3.10.7"
  }
 },
 "nbformat": 4,
 "nbformat_minor": 5
}
